{
 "cells": [
  {
   "cell_type": "code",
   "execution_count": 75,
   "metadata": {
    "collapsed": false
   },
   "outputs": [],
   "source": [
    "import matplotlib.pyplot as plt\n",
    "import numpy as np\n",
    "import scipy as sp\n",
    "from scipy import special"
   ]
  },
  {
   "cell_type": "code",
   "execution_count": 199,
   "metadata": {
    "collapsed": false
   },
   "outputs": [],
   "source": [
    "time = 2*np.pi # total time in seconds\n",
    "dt=0.1 # Timestep\n",
    "nt = int(time / dt) # number of time steps\n",
    "t0=0; theta0=np.pi*0.1; #Initial time and value\n",
    "\n",
    "order = 4 # order of symplectic integrator\n",
    "\n",
    "k = 1.0 # define k\n",
    "g = 10 # define g for energy analysis\n",
    "\n",
    "t=np.linspace(t0,nt*dt,nt) #Iniatialize time array"
   ]
  },
  {
   "cell_type": "code",
   "execution_count": 200,
   "metadata": {
    "collapsed": false
   },
   "outputs": [],
   "source": [
    "# Euler's method\n",
    "def euler(t,k,dt,theta0):\n",
    "    theta=np.zeros(nt)\n",
    "    u=np.zeros(nt)\n",
    "    theta[0]=theta0\n",
    "    \n",
    "    for i in range(nt-1):\n",
    "        u[i+1] = u[i] - dt*np.sin(theta[i])*k**2\n",
    "        #theta[i+1] = theta[i] + dt*u[i] # Euler's method\n",
    "        theta[i+1] = theta[i] + dt*u[i+1] # Semi-implicit Euler's method\n",
    "        \n",
    "    return [theta,u]\n",
    "    \n",
    "thetaEuler,uEuler = euler(t,k,dt,theta0)"
   ]
  },
  {
   "cell_type": "code",
   "execution_count": 201,
   "metadata": {
    "collapsed": false
   },
   "outputs": [
    {
     "data": {
      "image/png": "[encoded data removed]",
      "text/plain": [
       "<matplotlib.figure.Figure at 0x1098b9390>"
      ]
     },
     "metadata": {},
     "output_type": "display_data"
    }
   ],
   "source": [
    "#Plot the result of Euler's method\n",
    "plt.plot(t,thetaEuler)\n",
    "plt.xlabel('t')\n",
    "plt.ylabel(r'$\\theta(t)$')\n",
    "plt.xlim(0,dt*nt)\n",
    "plt.show()"
   ]
  },
  {
   "cell_type": "code",
   "execution_count": 203,
   "metadata": {
    "collapsed": false
   },
   "outputs": [
    {
     "name": "stdout",
     "output_type": "stream",
     "text": [
      "0.314159265359\n",
      "0.314892491124\n",
      "0.314699825866\n",
      "0.312615422742\n",
      "\n",
      "\n",
      "0.310531019618\n",
      "0.31179783319\n",
      "0.312147556742\n",
      "0.307998573265\n",
      "\n",
      "\n",
      "0.303849589788\n",
      "0.305637919946\n",
      "0.306526704531\n",
      "0.30035265575\n",
      "\n",
      "\n",
      "0.294178606969\n",
      "0.296471365528\n",
      "0.297890749356\n",
      "0.289750577357\n",
      "\n",
      "\n",
      "0.281610405357\n",
      "0.28438560682\n",
      "0.286322050633\n",
      "0.276293716519\n",
      "\n",
      "\n",
      "0.266265382406\n",
      "0.26949630473\n",
      "0.271931284535\n",
      "0.26011120677\n",
      "\n",
      "\n",
      "0.248291129004\n",
      "0.25194651877\n",
      "0.25485665737\n",
      "0.24135898408\n",
      "\n",
      "\n",
      "0.227861310789\n",
      "0.231905635855\n",
      "0.235262876275\n",
      "0.220218579225\n",
      "\n",
      "\n",
      "0.205174282175\n",
      "0.209568034253\n",
      "0.213339858326\n",
      "0.196895638126\n",
      "\n",
      "\n",
      "0.180451417925\n",
      "0.185151466384\n",
      "0.189301161443\n",
      "0.171618157193\n",
      "\n",
      "\n",
      "0.153935152943\n",
      "0.158895149645\n",
      "0.163382125482\n",
      "0.144634427401\n",
      "\n",
      "\n",
      "0.12588672932\n",
      "0.131057562429\n",
      "0.135837719466\n",
      "0.116210689663\n",
      "\n",
      "\n",
      "0.0965836598588\n",
      "0.101913952576\n",
      "0.106940100579\n",
      "0.0866285146923\n",
      "\n",
      "\n",
      "0.0663169288051\n",
      "0.0717535769343\n",
      "0.0769759017028\n",
      "0.0561819319918\n",
      "\n",
      "\n",
      "0.0353879622808\n",
      "0.0408767026345\n",
      "0.0462432760779\n",
      "0.0251743440761\n",
      "\n",
      "\n",
      "0.00410541207427\n",
      "0.00959141216509\n",
      "0.0150487391605\n",
      "-0.00608472741679\n",
      "\n",
      "\n",
      "-0.0272181939941\n",
      "-0.0217897356707\n",
      "-0.016296142068\n",
      "-0.0372830084455\n",
      "\n",
      "\n",
      "-0.0582698748231\n",
      "-0.0529531291709\n",
      "-0.0474781540636\n",
      "-0.0681088908357\n",
      "\n",
      "\n",
      "-0.0887396276078\n",
      "-0.0835875471921\n",
      "-0.0781858726153\n",
      "-0.0982548380328\n",
      "\n",
      "\n",
      "-0.11832380345\n",
      "-0.113387557212\n",
      "-0.108113064651\n",
      "-0.127420714952\n",
      "\n",
      "\n",
      "-0.146728365253\n",
      "-0.14205680505\n",
      "-0.136961992809\n",
      "-0.155316982618\n",
      "\n",
      "\n",
      "-0.173671972426\n",
      "-0.169311139158\n",
      "-0.164446564892\n",
      "-0.181667705395\n",
      "\n",
      "\n",
      "-0.198888845898\n",
      "-0.194881521045\n",
      "-0.19029527845\n",
      "-0.206213328088\n",
      "\n",
      "\n",
      "-0.222131377726\n",
      "-0.218516684102\n",
      "-0.214253921039\n",
      "-0.228713191189\n",
      "\n",
      "\n",
      "-0.243172461339\n",
      "-0.239985514857\n",
      "-0.236087998228\n",
      "-0.24894776416\n",
      "\n",
      "\n",
      "-0.261807530093\n",
      "-0.259079142548\n",
      "-0.255584873172\n",
      "-0.266720587833\n",
      "\n",
      "\n",
      "-0.277856302495\n",
      "-0.275612733894\n",
      "-0.2725556127\n",
      "-0.281859927032\n",
      "\n",
      "\n",
      "-0.291164241364\n",
      "-0.289426999288\n",
      "-0.286836544382\n",
      "-0.294220142595\n",
      "\n",
      "\n",
      "-0.301603740808\n",
      "-0.300389423666\n",
      "-0.298290536488\n",
      "-0.303682797663\n",
      "\n",
      "\n",
      "-0.309075058838\n",
      "-0.308395239782\n",
      "-0.306808017593\n",
      "-0.310157516157\n",
      "\n",
      "\n",
      "-0.313507014722\n",
      "-0.313368163255\n",
      "-0.31230775475\n",
      "-0.313582611794\n",
      "\n",
      "\n",
      "-0.314857468839\n",
      "-0.315260907835\n",
      "-0.314737408644\n",
      "-0.313925503986\n",
      "\n",
      "\n",
      "-0.313113599328\n",
      "-0.314055496115\n",
      "-0.314073881367\n",
      "-0.311182933006\n",
      "\n",
      "\n",
      "-0.308291984645\n",
      "-0.309763375876\n",
      "-0.310323467742\n",
      "-0.305380981338\n",
      "\n",
      "\n",
      "-0.300438494934\n",
      "-0.302425346112\n",
      "-0.30352181524\n",
      "-0.296574901935\n",
      "\n",
      "\n",
      "-0.28962798863\n",
      "-0.292111290153\n",
      "-0.293733691006\n",
      "-0.284848747778\n",
      "\n",
      "\n",
      "-0.275963804549\n",
      "-0.278919706973\n",
      "-0.28105254819\n",
      "-0.270314791476\n",
      "\n",
      "\n",
      "-0.259577034761\n",
      "-0.262977026452\n",
      "-0.265599878327\n",
      "-0.253112719285\n",
      "\n",
      "\n",
      "-0.240625560244\n",
      "-0.244436690673\n",
      "-0.247524332596\n",
      "-0.233408581443\n",
      "\n",
      "\n",
      "-0.219292830291\n",
      "-0.223477981872\n",
      "-0.227000592944\n",
      "-0.211393480576\n",
      "\n",
      "\n",
      "-0.195786368208\n",
      "-0.20030457872\n",
      "-0.204227974733\n",
      "-0.187281982408\n",
      "\n",
      "\n",
      "-0.170335990083\n",
      "-0.175142826446\n",
      "-0.179428745926\n",
      "-0.161310238109\n",
      "\n",
      "\n",
      "-0.143191730293\n",
      "-0.148239712803\n",
      "-0.152846153865\n",
      "-0.133733815208\n",
      "\n",
      "\n",
      "-0.114621476552\n",
      "-0.119860550764\n",
      "-0.124742159117\n",
      "-0.104825243608\n",
      "\n",
      "\n",
      "-0.0849083280999\n",
      "-0.0902863794983\n",
      "-0.0953948862394\n",
      "-0.0748712942935\n",
      "\n",
      "\n",
      "-0.0543477023476\n",
      "-0.0598111069534\n",
      "-0.0650958127921\n",
      "-0.0441700198705\n",
      "\n",
      "\n",
      "-0.0232442269488\n",
      "-0.0287384292162\n",
      "-0.0341467297496\n",
      "-0.0130275973315\n",
      "\n",
      "\n",
      "0.00809153508674\n",
      "0.00262142714514\n",
      "-0.00285651754624\n",
      "0.0182449766921\n",
      "\n",
      "\n",
      "0.0393464709304\n",
      "0.0339550843699\n",
      "0.0284622085596\n",
      "0.0493352802128\n",
      "\n",
      "\n",
      "0.070208351866\n",
      "0.064949452503\n",
      "0.059496523179\n",
      "0.0799328869423\n",
      "\n",
      "\n",
      "0.100369250706\n",
      "0.0952951629114\n",
      "0.0899366211299\n",
      "0.1097327499\n",
      "\n",
      "\n",
      "0.129528878669\n",
      "0.124689931432\n",
      "0.119479188706\n",
      "0.138438485384\n",
      "\n",
      "\n",
      "0.157397782062\n",
      "0.152841790104\n",
      "0.147830654396\n",
      "0.16576550044\n",
      "\n",
      "\n",
      "0.183700346484\n",
      "0.179472133472\n",
      "0.17471026403\n",
      "0.191443915064\n",
      "\n",
      "\n",
      "0.208177566099\n",
      "0.204318534987\n",
      "0.199852934395\n",
      "0.215221240585\n",
      "\n",
      "\n",
      "0.230589546774\n",
      "0.227137300289\n",
      "0.223011850258\n",
      "0.236864786978\n",
      "\n",
      "\n",
      "0.250717723699\n",
      "0.247705736042\n",
      "0.243960781457\n",
      "0.256163783479\n",
      "\n",
      "\n",
      "0.268366785501\n",
      "0.265824124647\n",
      "0.262496108353\n",
      "0.27293120763\n",
      "\n",
      "\n",
      "0.283366306908\n",
      "0.281317405571\n",
      "0.278438554493\n",
      "0.2870053273\n",
      "\n",
      "\n",
      "0.295572100107\n",
      "0.294036572568\n",
      "0.291634634145\n",
      "0.298250967336\n",
      "\n",
      "\n",
      "0.304867300528\n",
      "0.303859802082\n",
      "0.301957828811\n",
      "0.306560517254\n",
      "\n",
      "\n"
     ]
    }
   ],
   "source": [
    "# Symplectic integrator coefficients\n",
    "# 1st order: ci = [1 0 0 0] di = [1 0 0 0] \n",
    "# 2nd order: ci = [0 1 0 0] di = [0.5 0.5 0 0] \n",
    "# 3rd order: ci = [1 -2/3 2/3 0] di = [-1/24 3/4 7/24 0] \n",
    "# 4th order: let x = 2-2^(1/3) c1=c4=1/2x, c2=c3=[1-2^(1/3)]/2x, d1=d3=1/x d2=-2^(1/3)/x  d4=0\n",
    "\n",
    "def symplectic(t,k,dt,theta0,order):\n",
    "    \n",
    "    theta=np.zeros(nt)\n",
    "    u=np.zeros(nt)\n",
    "    theta[0]=theta0\n",
    "    \n",
    "    if (order == 2):\n",
    "        c = np.array([0, 1, 0, 0])\n",
    "        d = np.array([0.5, 0.5, 0, 0])\n",
    "    elif (order == 3):\n",
    "        c = np.array([1, -2.0/3, 2.0/3, 0])\n",
    "        d = np.array([-1.0/24, 3.0/4, 7.0/24, 0])\n",
    "    elif(order == 4):\n",
    "        x = 2 - 2**(1./3)\n",
    "        c = np.array([1/(2*x), (1-2**(1./3))/(2*x), (1-2**(1./3))/(2*x), 1/(2*x)])\n",
    "        d = np.array([1/x, -2**(1/3)/x, 1/x, 0])\n",
    "        \n",
    "    for i in range(nt-1):\n",
    "\n",
    "        theta[i+1] = theta[i] + c[0]*dt*u[i]\n",
    "        u[i+1] = u[i] - d[0]*dt*np.sin(theta[i+1])*k**2\n",
    "              \n",
    "        theta[i+1] = theta[i+1] + c[1]*dt*u[i+1]\n",
    "        u[i+1] = u[i+1] - d[1]*dt*np.sin(theta[i+1])*k**2\n",
    "        \n",
    "        theta[i+1] = theta[i+1] + c[2]*dt*u[i+1]\n",
    "        u[i+1] = u[i+1] - d[2]*dt*np.sin(theta[i+1])*k**2\n",
    "    \n",
    "        theta[i+1] = theta[i+1] + c[3]*dt*u[i+1]\n",
    "        u[i+1] = u[i+1] - d[3]*dt*np.sin(theta[i+1])*k**2\n",
    "        \n",
    "    return [theta,u]\n",
    "    \n",
    "thetaSym,uSym = symplectic(t,k,dt,theta0,order)"
   ]
  },
  {
   "cell_type": "code",
   "execution_count": 190,
   "metadata": {
    "collapsed": false,
    "scrolled": true
   },
   "outputs": [
    {
     "data": {
      "image/png": "[encoded data removed]",
      "text/plain": [
       "<matplotlib.figure.Figure at 0x10972bdd8>"
      ]
     },
     "metadata": {},
     "output_type": "display_data"
    }
   ],
   "source": [
    "#Plot the result of symplectic integrator\n",
    "plt.plot(t,thetaSym)\n",
    "plt.xlabel('t')\n",
    "plt.ylabel(r'$\\theta(t)$')\n",
    "plt.xlim(0,dt*nt)\n",
    "plt.show()"
   ]
  },
  {
   "cell_type": "code",
   "execution_count": 191,
   "metadata": {
    "collapsed": false
   },
   "outputs": [],
   "source": [
    "# Analytical solution\n",
    "\n",
    "def analytical(t,k,theta0):\n",
    "\n",
    "    x = np.sin(theta0/2)\n",
    "    eK = sp.special.ellipk(x**2) # complete elliptic integral of the first kind\n",
    "    eJ = sp.special.ellipj(eK - k*t, x**2) # Jacobian elliptic function\n",
    "    thetaAna = 2*np.arcsin(x*eJ[0]) # ellipj returns 4 values, we only need 1st\n",
    "    \n",
    "    return thetaAna\n",
    "\n",
    "thetaAna = analytical(t,k,theta0)\n",
    "uAna = np.gradient(thetaAna,dt)"
   ]
  },
  {
   "cell_type": "code",
   "execution_count": 192,
   "metadata": {
    "collapsed": false,
    "scrolled": true
   },
   "outputs": [
    {
     "data": {
      "image/png": "[encoded data removed]",
      "text/plain": [
       "<matplotlib.figure.Figure at 0x10b41a240>"
      ]
     },
     "metadata": {},
     "output_type": "display_data"
    }
   ],
   "source": [
    "#Plot the result\n",
    "plt.plot(t,thetaAna,color='r') #Analytical solution is red\n",
    "plt.plot(t,thetaSym,color='b') # Symplectic solution is blue\n",
    "plt.plot(t,thetaEuler,color='g') # Euler solution is green\n",
    "plt.xlabel('t')\n",
    "plt.ylabel(r'$\\theta(t)$')\n",
    "plt.xlim(0,dt*nt)\n",
    "plt.show()"
   ]
  },
  {
   "cell_type": "code",
   "execution_count": 193,
   "metadata": {
    "collapsed": false
   },
   "outputs": [],
   "source": [
    "def energy(u,theta):\n",
    "    \n",
    "    return g**2/k**2*(1/(2*k**2)*u**2-np.cos(theta))"
   ]
  },
  {
   "cell_type": "code",
   "execution_count": 194,
   "metadata": {
    "collapsed": false
   },
   "outputs": [
    {
     "data": {
      "image/png": "[encoded data removed]",
      "text/plain": [
       "<matplotlib.figure.Figure at 0x1098c9d68>"
      ]
     },
     "metadata": {},
     "output_type": "display_data"
    }
   ],
   "source": [
    "energyEuler = energy(uEuler,thetaEuler)\n",
    "energySym = energy(uSym,thetaSym)\n",
    "energyAna = energy(uAna,thetaAna)\n",
    "  \n",
    "plt.plot(t,energyEuler, color = 'g')\n",
    "plt.plot(t,energySym, color = 'b')\n",
    "plt.plot(t,energyAna, color = 'r')\n",
    "\n",
    "plt.xlabel('t')\n",
    "plt.ylabel('Energy')\n",
    "plt.xlim(0,dt*nt)\n",
    "plt.show()"
   ]
  },
  {
   "cell_type": "code",
   "execution_count": 195,
   "metadata": {
    "collapsed": false
   },
   "outputs": [
    {
     "name": "stdout",
     "output_type": "stream",
     "text": [
      "-0.00175583768552\n",
      "-0.00529559315108\n"
     ]
    },
    {
     "data": {
      "image/png": "[encoded data removed]",
      "text/plain": [
       "<matplotlib.figure.Figure at 0x1053567f0>"
      ]
     },
     "metadata": {},
     "output_type": "display_data"
    }
   ],
   "source": [
    "#Plot the error\n",
    "errEuler = thetaEuler - thetaAna\n",
    "errSym = thetaSym - thetaAna\n",
    "\n",
    "print(errEuler[-1])\n",
    "print(errSym[-1])\n",
    "\n",
    "plt.plot(t,errEuler, color = 'g') # Euler function error is green\n",
    "plt.plot(t,errSym, color = 'b') # Symplectic error is blue\n",
    "plt.xlabel('t')\n",
    "plt.ylabel('Error')\n",
    "plt.xlim(0,dt*nt)\n",
    "plt.show()"
   ]
  },
  {
   "cell_type": "code",
   "execution_count": 196,
   "metadata": {
    "collapsed": false
   },
   "outputs": [],
   "source": [
    "def errorCalc(tvec,err):\n",
    "    bound = np.r_[True, err[0:-2] < err[1:-1]] & np.r_[err[1:-1] < err[0:-2], True]\n",
    "    bound = np.append(bound,False)\n",
    "    localErr = np.polyfit(tvec[bound], err[bound],1)\n",
    "    \n",
    "    return localErr"
   ]
  },
  {
   "cell_type": "code",
   "execution_count": 197,
   "metadata": {
    "collapsed": false
   },
   "outputs": [
    {
     "name": "stdout",
     "output_type": "stream",
     "text": [
      "0\n",
      "1\n",
      "2\n",
      "3\n",
      "4\n",
      "5\n",
      "6\n",
      "7\n",
      "8\n",
      "9\n",
      "10\n",
      "11\n",
      "12\n",
      "13\n",
      "[  1.80588057e-03   1.23543732e-03   2.17164870e-04   1.21719680e-04\n",
      "   7.30472352e-05   4.85200567e-05   3.62145818e-05   1.77087348e-05\n",
      "   8.67424381e-06   4.21164273e-06   1.99400784e-06   8.88607374e-07\n",
      "   3.36761454e-07   2.44859739e-07]\n",
      "[  5.75856529e-03   2.56339886e-03   5.69575894e-04   2.59062300e-04\n",
      "   1.32052926e-04   7.56128065e-05   4.91592254e-05   2.38834214e-05\n",
      "   1.16872142e-05   5.69953923e-06   2.73330947e-06   1.25709661e-06\n",
      "   5.20715705e-07   3.36800203e-07]\n"
     ]
    },
    {
     "data": {
      "image/png": "[encoded data removed]",
      "text/plain": [
       "<matplotlib.figure.Figure at 0x105421ba8>"
      ]
     },
     "metadata": {},
     "output_type": "display_data"
    }
   ],
   "source": [
    "j = np.linspace(3,16,14)\n",
    "h = 2**(-j)\n",
    "\n",
    "errE = np.zeros(h.size)\n",
    "errS = np.zeros(h.size)\n",
    "\n",
    "for i in range(h.size):\n",
    "    print(i)\n",
    "    nt = int(time / h[i])\n",
    "    tvec = np.linspace(t0,time,nt)\n",
    "    \n",
    "    thetaE = euler(tvec,k,h[i],theta0)[0]\n",
    "    thetaS = symplectic(tvec,k,h[i],theta0,order)[0]\n",
    "    thetaA = analytical(tvec,k,theta0)\n",
    "    \n",
    "    errorE = thetaE - thetaA\n",
    "    errorS = thetaS - thetaA\n",
    "    \n",
    "    errE[i] = np.abs(errorE[-1])\n",
    "    errS[i] = np.abs(errorS[-1])\n",
    "    #errE[i] = np.abs(errorCalc(tvec,errorE)[0])\n",
    "    #errS[i] = np.abs(errorCalc(tvec,errorS)[0])\n",
    "    \n",
    "print(errE)\n",
    "print(errS)\n",
    "\n",
    "slopeE = np.polyfit(np.log(h),np.log(errE),1)\n",
    "slopeS = np.polyfit(np.log(h),np.log(errS),1)\n",
    "\n",
    "plt.loglog(h,errE,color='g')\n",
    "plt.loglog(h,errS,color='b')\n",
    "plt.xlabel(r'$\\Delta t$')\n",
    "plt.ylabel('Error')\n",
    "plt.show()"
   ]
  },
  {
   "cell_type": "code",
   "execution_count": 198,
   "metadata": {
    "collapsed": false
   },
   "outputs": [
    {
     "name": "stdout",
     "output_type": "stream",
     "text": [
      "[ 0.96541943 -4.52176672]\n",
      "[ 1.04371311 -3.48712645]\n"
     ]
    }
   ],
   "source": [
    "slopeE = np.polyfit(np.log(h),np.log(errE),1)\n",
    "slopeS = np.polyfit(np.log(h),np.log(errS),1)\n",
    "\n",
    "print(slopeE)\n",
    "print(slopeS)"
   ]
  },
  {
   "cell_type": "code",
   "execution_count": null,
   "metadata": {
    "collapsed": true
   },
   "outputs": [],
   "source": []
  }
 ],
 "metadata": {
  "anaconda-cloud": {},
  "kernelspec": {
   "display_name": "Python 3",
   "language": "python",
   "name": "python3"
  },
  "language_info": {
   "codemirror_mode": {
    "name": "ipython",
    "version": 3
   },
   "file_extension": ".py",
   "mimetype": "text/x-python",
   "name": "python",
   "nbconvert_exporter": "python",
   "pygments_lexer": "ipython3",
   "version": "3.6.0"
  }
 },
 "nbformat": 4,
 "nbformat_minor": 2
}
