{
 "cells": [
  {
   "cell_type": "code",
   "execution_count": 1,
   "metadata": {
    "collapsed": false
   },
   "outputs": [],
   "source": [
    "import matplotlib.pyplot as plt\n",
    "import numpy as np\n",
    "import scipy as sp\n",
    "from scipy import special"
   ]
  },
  {
   "cell_type": "code",
   "execution_count": 762,
   "metadata": {
    "collapsed": false
   },
   "outputs": [],
   "source": [
    "time = 1000*np.pi # total time in seconds\n",
    "dt=0.1 # Timestep\n",
    "nt = int(time / dt) # number of time steps\n",
    "t0=0; theta0=np.pi*0.5; #Initial time and value\n",
    "\n",
    "order = 3 # order of symplectic integrator\n",
    "\n",
    "k = 4.0 # define k\n",
    "g = 10 # define g for energy analysis\n",
    "\n",
    "t=np.linspace(t0,nt*dt,nt) #Iniatialize time array"
   ]
  },
  {
   "cell_type": "code",
   "execution_count": 763,
   "metadata": {
    "collapsed": false
   },
   "outputs": [],
   "source": [
    "# Euler's method\n",
    "def euler(t,k,dt,theta0):\n",
    "    theta=np.zeros(nt)\n",
    "    u=np.zeros(nt)\n",
    "    theta[0]=theta0\n",
    "    \n",
    "    for i in range(nt-1):\n",
    "        u[i+1] = u[i] - dt*np.sin(theta[i])*k**2\n",
    "        #theta[i+1] = theta[i] + dt*u[i] # Euler's method\n",
    "        theta[i+1] = theta[i] + dt*u[i+1] # Semi-implicit Euler's method\n",
    "        \n",
    "    return [theta,u]\n",
    "    \n",
    "thetaEuler,uEuler = euler(t,k,dt,theta0)"
   ]
  },
  {
   "cell_type": "code",
   "execution_count": 764,
   "metadata": {
    "collapsed": false
   },
   "outputs": [
    {
     "data": {
      "image/png": "[encoded data removed]",
      "text/plain": [
       "<matplotlib.figure.Figure at 0x1090026a0>"
      ]
     },
     "metadata": {},
     "output_type": "display_data"
    }
   ],
   "source": [
    "#Plot the result of Euler's method\n",
    "plt.plot(t,thetaEuler)\n",
    "plt.xlabel('t')\n",
    "plt.ylabel(r'$\\theta(t)$')\n",
    "plt.xlim(0,dt*nt)\n",
    "plt.show()"
   ]
  },
  {
   "cell_type": "code",
   "execution_count": 765,
   "metadata": {
    "collapsed": false
   },
   "outputs": [],
   "source": [
    "# Symplectic integrator coefficients\n",
    "# 1st order: ci = [1 0 0 0] di = [1 0 0 0] \n",
    "# 2nd order: ci = [0 1 0 0] di = [0.5 0.5 0 0] \n",
    "# 3rd order: ci = [1 -2/3 2/3 0] di = [-1/24 3/4 7/24 0] \n",
    "# 4th order: let x = 2-2^(1/3) c1=c4=1/2x, c2=c3=[1-2^(1/3)]/2x, d1=d3=1/x d2=-2^(1/3)/x  d4=0\n",
    "\n",
    "def symplectic(t,k,dt,theta0,order):\n",
    "    \n",
    "    theta=np.zeros(nt)\n",
    "    u=np.zeros(nt)\n",
    "    theta[0]=theta0\n",
    "    \n",
    "    if (order == 2):\n",
    "        c = np.array([0, 1, 0, 0])\n",
    "        d = np.array([0.5, 0.5, 0, 0])\n",
    "    elif (order == 3):\n",
    "        c = np.array([1, -2.0/3, 2.0/3, 0])\n",
    "        d = np.array([-1.0/24, 3.0/4, 7.0/24, 0])\n",
    "    elif(order == 4):\n",
    "        x = 2 - 2**(1./3)\n",
    "        c = np.array([1/(2*x), (1-2**(1./3))/(2*x), (1-2**(1./3))/(2*x), 1/(2*x)])\n",
    "        d = np.array([1/x, -2**(1/3)/x, 1/x, 0])\n",
    "        \n",
    "    for i in range(nt-1):\n",
    "\n",
    "        theta[i+1] = theta[i] + c[0]*dt*u[i]\n",
    "        u[i+1] = u[i] - d[0]*dt*np.sin(theta[i+1])*k**2\n",
    "              \n",
    "        theta[i+1] = theta[i+1] + c[1]*dt*u[i+1]\n",
    "        u[i+1] = u[i+1] - d[1]*dt*np.sin(theta[i+1])*k**2\n",
    "        \n",
    "        theta[i+1] = theta[i+1] + c[2]*dt*u[i+1]\n",
    "        u[i+1] = u[i+1] - d[2]*dt*np.sin(theta[i+1])*k**2\n",
    "    \n",
    "        theta[i+1] = theta[i+1] + c[3]*dt*u[i+1]\n",
    "        u[i+1] = u[i+1] - d[3]*dt*np.sin(theta[i+1])*k**2\n",
    "        \n",
    "    return [theta,u]\n",
    "    \n",
    "thetaSym,uSym = symplectic(t,k,dt,theta0,order)"
   ]
  },
  {
   "cell_type": "code",
   "execution_count": 766,
   "metadata": {
    "collapsed": false,
    "scrolled": true
   },
   "outputs": [
    {
     "data": {
      "image/png": "[encoded data removed]",
      "text/plain": [
       "<matplotlib.figure.Figure at 0x10966e940>"
      ]
     },
     "metadata": {},
     "output_type": "display_data"
    }
   ],
   "source": [
    "#Plot the result of symplectic integrator\n",
    "plt.plot(t,thetaSym)\n",
    "plt.xlabel('t')\n",
    "plt.ylabel(r'$\\theta(t)$')\n",
    "plt.xlim(0,dt*nt)\n",
    "plt.show()"
   ]
  },
  {
   "cell_type": "code",
   "execution_count": 767,
   "metadata": {
    "collapsed": false
   },
   "outputs": [],
   "source": [
    "# Analytical solution\n",
    "\n",
    "def analytical(t,k,theta0):\n",
    "\n",
    "    x = np.sin(theta0/2)\n",
    "    eK = sp.special.ellipk(x**2) # complete elliptic integral of the first kind\n",
    "    eJ = sp.special.ellipj(eK - k*t, x**2) # Jacobian elliptic function\n",
    "    thetaAna = 2*np.arcsin(x*eJ[0]) # ellipj returns 4 values, we only need 1st\n",
    "    \n",
    "    return thetaAna\n",
    "\n",
    "thetaAna = analytical(t,k,theta0)\n",
    "uAna = np.gradient(thetaAna,dt)"
   ]
  },
  {
   "cell_type": "code",
   "execution_count": 768,
   "metadata": {
    "collapsed": false,
    "scrolled": true
   },
   "outputs": [
    {
     "data": {
      "image/png": "[encoded data removed]",
      "text/plain": [
       "<matplotlib.figure.Figure at 0x108dbbc18>"
      ]
     },
     "metadata": {},
     "output_type": "display_data"
    }
   ],
   "source": [
    "#Plot the result\n",
    "plt.plot(t,thetaAna,color='r') #Analytical solution is red\n",
    "plt.plot(t,thetaSym,color='b') # Symplectic solution is blue\n",
    "plt.plot(t,thetaEuler,color='g') # Euler solution is green\n",
    "plt.xlabel('t')\n",
    "plt.ylabel(r'$\\theta(t)$')\n",
    "plt.xlim(0,dt*nt)\n",
    "plt.show()"
   ]
  },
  {
   "cell_type": "code",
   "execution_count": 769,
   "metadata": {
    "collapsed": false
   },
   "outputs": [],
   "source": [
    "def energy(u,theta):\n",
    "    \n",
    "    return g**2/k**2*(1/(2*k**2)*u**2-np.cos(theta))"
   ]
  },
  {
   "cell_type": "code",
   "execution_count": 770,
   "metadata": {
    "collapsed": false
   },
   "outputs": [
    {
     "data": {
      "image/png": "[encoded data removed]",
      "text/plain": [
       "<matplotlib.figure.Figure at 0x10967bd68>"
      ]
     },
     "metadata": {},
     "output_type": "display_data"
    }
   ],
   "source": [
    "energyEuler = energy(uEuler,thetaEuler)\n",
    "energySym = energy(uSym,thetaSym)\n",
    "energyAna = energy(uAna,thetaAna)\n",
    "  \n",
    "plt.plot(t,energyEuler, color = 'g')\n",
    "plt.plot(t,energySym, color = 'b')\n",
    "plt.plot(t,energyAna, color = 'r')\n",
    "\n",
    "plt.xlabel('t')\n",
    "plt.ylabel('Energy')\n",
    "plt.xlim(0,dt*nt)\n",
    "plt.show()"
   ]
  },
  {
   "cell_type": "code",
   "execution_count": 771,
   "metadata": {
    "collapsed": false
   },
   "outputs": [
    {
     "name": "stdout",
     "output_type": "stream",
     "text": [
      "1.08520320186\n",
      "-0.399418200945\n"
     ]
    },
    {
     "data": {
      "image/png": "[encoded data removed]",
      "text/plain": [
       "<matplotlib.figure.Figure at 0x1090b88d0>"
      ]
     },
     "metadata": {},
     "output_type": "display_data"
    }
   ],
   "source": [
    "#Plot the error\n",
    "errEuler = thetaEuler - thetaAna\n",
    "errSym = thetaSym - thetaAna\n",
    "\n",
    "print(errEuler[-1])\n",
    "print(errSym[-1])\n",
    "\n",
    "plt.plot(t,errEuler, color = 'g') # Euler function error is green\n",
    "plt.plot(t,errSym, color = 'b') # Symplectic error is blue\n",
    "plt.xlabel('t')\n",
    "plt.ylabel('Error')\n",
    "plt.xlim(0,dt*nt)\n",
    "plt.show()"
   ]
  },
  {
   "cell_type": "code",
   "execution_count": null,
   "metadata": {
    "collapsed": false
   },
   "outputs": [],
   "source": [
    "j = np.arange(0,14,1.0)\n",
    "h = 2**(-j)\n",
    "\n",
    "err1 = np.zeros(h.size)\n",
    "err2 = np.zeros(h.size)\n",
    "err3 = np.zeros(h.size)\n",
    "err4 = np.zeros(h.size)\n",
    "\n",
    "for i in range(h.size):\n",
    "    print(i) # show progress\n",
    "    nt = int(time / h[i])\n",
    "    tvec = np.linspace(t0,time,nt)\n",
    "    \n",
    "    thetaA = analytical(tvec,k,theta0)\n",
    "    theta1 = euler(tvec,k,h[i],theta0)[0]\n",
    "    theta2 = symplectic(tvec,k,h[i],theta0,2)[0]\n",
    "    theta3 = symplectic(tvec,k,h[i],theta0,3)[0]\n",
    "    theta4 = symplectic(tvec,k,h[i],theta0,4)[0]\n",
    "    \n",
    "    error1 = theta1 - thetaA\n",
    "    error2 = theta2 - thetaA\n",
    "    error3 = theta3 - thetaA\n",
    "    error4 = theta4 - thetaA\n",
    "    \n",
    "    err1[i] = np.abs(error1[-1])\n",
    "    err2[i] = np.abs(error2[-1])\n",
    "    err3[i] = np.abs(error3[-1])\n",
    "    err4[i] = np.abs(error4[-1])\n",
    "    \n",
    "print(err1)\n",
    "print(err2)\n",
    "print(err3)\n",
    "print(err4)\n",
    "\n",
    "slope1 = np.polyfit(np.log(h),np.log(err1),1)\n",
    "slope2 = np.polyfit(np.log(h),np.log(err2),1)\n",
    "slope3 = np.polyfit(np.log(h),np.log(err3),1)\n",
    "slope4 = np.polyfit(np.log(h),np.log(err4),1)\n",
    "\n",
    "plt.loglog(h,err1,color='g')\n",
    "plt.loglog(h,err2,color='b')\n",
    "plt.loglog(h,err3,color='r')\n",
    "plt.loglog(h,err4,color='k')\n",
    "plt.xlabel(r'$\\Delta t$')\n",
    "plt.ylabel('Error')\n",
    "plt.show()"
   ]
  },
  {
   "cell_type": "code",
   "execution_count": 555,
   "metadata": {
    "collapsed": false
   },
   "outputs": [
    {
     "name": "stdout",
     "output_type": "stream",
     "text": [
      "0.932827377115\n",
      "0.954443427094\n",
      "0.961889065939\n",
      "0.960454515271\n"
     ]
    }
   ],
   "source": [
    "slope1 = np.polyfit(np.log(h),np.log(err1),1)[0]\n",
    "slope2 = np.polyfit(np.log(h),np.log(err2),1)[0]\n",
    "slope3 = np.polyfit(np.log(h),np.log(err3),1)[0]\n",
    "slope4 = np.polyfit(np.log(h),np.log(err4),1)[0]\n",
    "\n",
    "print(slope1)\n",
    "print(slope2)\n",
    "print(slope3)\n",
    "print(slope4)"
   ]
  },
  {
   "cell_type": "code",
   "execution_count": null,
   "metadata": {
    "collapsed": false
   },
   "outputs": [],
   "source": []
  },
  {
   "cell_type": "code",
   "execution_count": null,
   "metadata": {
    "collapsed": true
   },
   "outputs": [],
   "source": []
  }
 ],
 "metadata": {
  "anaconda-cloud": {},
  "kernelspec": {
   "display_name": "Python 3",
   "language": "python",
   "name": "python3"
  },
  "language_info": {
   "codemirror_mode": {
    "name": "ipython",
    "version": 3
   },
   "file_extension": ".py",
   "mimetype": "text/x-python",
   "name": "python",
   "nbconvert_exporter": "python",
   "pygments_lexer": "ipython3",
   "version": "3.6.0"
  }
 },
 "nbformat": 4,
 "nbformat_minor": 2
}
